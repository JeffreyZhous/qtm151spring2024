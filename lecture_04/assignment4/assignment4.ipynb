{
 "cells": [
  {
   "cell_type": "markdown",
   "metadata": {},
   "source": [
    "# Assignment 4"
   ]
  },
  {
   "cell_type": "markdown",
   "metadata": {},
   "source": [
    "## Submit as an HTML file"
   ]
  },
  {
   "cell_type": "markdown",
   "metadata": {},
   "source": [
    "<font size = \"5\">\n",
    "Print your Emory ID below"
   ]
  },
  {
   "cell_type": "code",
   "execution_count": 1,
   "metadata": {},
   "outputs": [
    {
     "data": {
      "text/plain": [
       "2512377"
      ]
     },
     "execution_count": 1,
     "metadata": {},
     "output_type": "execute_result"
    }
   ],
   "source": [
    "2512377"
   ]
  },
  {
   "cell_type": "markdown",
   "metadata": {},
   "source": [
    "<font size = \"5\">\n",
    "\n",
    "Import both the MatPlotLib and Numpy libraries"
   ]
  },
  {
   "cell_type": "code",
   "execution_count": 2,
   "metadata": {},
   "outputs": [],
   "source": [
    "\n",
    "import numpy as np\n",
    "import matplotlib.pyplot as plt"
   ]
  },
  {
   "cell_type": "markdown",
   "metadata": {},
   "source": [
    "<font size = \"5\">\n",
    "\n",
    "1. For-loops to count conditional statements\n",
    "\n",
    "<font size = \"3\">\n",
    "\n",
    "   - Define a custom list of people's ages <br>\n",
    "   (write down ages for 8 people, between ten and fifty)\n",
    "   - Define an empty list called ```list_eligible```\n",
    "   - Use a For-Loop that goes through the ages of the 8 people, then appends the <br>\n",
    "   value ```True``` to  ```list_eligible``` if their age is greater than or equal to 16 <br>\n",
    "   and ```False``` otherwise\n"
   ]
  },
  {
   "cell_type": "code",
   "execution_count": 13,
   "metadata": {},
   "outputs": [
    {
     "name": "stdout",
     "output_type": "stream",
     "text": [
      "[False, False, True, True, True, True, True, True]\n"
     ]
    }
   ],
   "source": [
    "#list of ages for 8 people \n",
    "list_age = [10, 15, 20 , 25, 30, 35, 40, 45]\n",
    "\n",
    "#empty list\n",
    "list_eligible = []\n",
    "for x in list_age:\n",
    "    test_age = x >= 16\n",
    "    list_eligible.append(test_age)\n",
    "\n",
    "print(list_eligible)\n",
    "                                       "
   ]
  },
  {
   "cell_type": "markdown",
   "metadata": {},
   "source": [
    "<font size = \"5\">\n",
    "\n",
    "2.  This is a follow-up to question 1. \n",
    "\n",
    "<font size = \"3\">\n",
    "\n",
    "- If you run ```np.sum(list_eligible)```, what value is Python assigning to <br>\n",
    " ```True``` or ```False``` elements in the sum? Write you answer as a comment.\n",
    "- How would you use this information to count the amount of people who are <br>\n",
    "**NOT** eligible? Write code that answers this question.\n",
    "\n",
    "   "
   ]
  },
  {
   "cell_type": "code",
   "execution_count": 22,
   "metadata": {},
   "outputs": [
    {
     "data": {
      "text/plain": [
       "2"
      ]
     },
     "execution_count": 22,
     "metadata": {},
     "output_type": "execute_result"
    }
   ],
   "source": [
    "np.sum(list_eligible)\n",
    "#python assigns a 0 to False, and 1 to true in the sum.\n",
    "#python assigns 6 to this\n",
    "list_ineligible = []\n",
    "for x in list_age:\n",
    "    #counts for people not over the age of 16 \n",
    "    not_age = x < 16\n",
    "    list_ineligible.append(not_age)\n",
    "np.sum(list_ineligible)\n",
    "\n",
    "#2 people are ineligible"
   ]
  },
  {
   "cell_type": "markdown",
   "metadata": {},
   "source": [
    "<font size = \"5\">\n",
    "\n",
    "3. Use a For-Loop for message automation \n",
    "\n",
    "<font size = \"3\">\n",
    "\n",
    "- Write your own list of customer names\n",
    "- Print an automated message with the unique name of the customer that tells <br>\n",
    "them they've won a giveaway \n",
    "- How many messages to do you expect to see? Write code that automatically <br>\n",
    "prints the size of the customer list"
   ]
  },
  {
   "cell_type": "code",
   "execution_count": 30,
   "metadata": {},
   "outputs": [
    {
     "name": "stdout",
     "output_type": "stream",
     "text": [
      "Congratulations, you've won a giveaway, Jamie!\n",
      "Congratulations, you've won a giveaway, Jay!\n",
      "Congratulations, you've won a giveaway, John!\n",
      "3\n",
      "3\n"
     ]
    }
   ],
   "source": [
    "# Write your own code\n",
    "customer_list = [\"Jamie\", \"Jay\", \"John\"]\n",
    "\n",
    "index = 0 \n",
    "for customer in customer_list:\n",
    "    print(\"Congratulations, you've won a giveaway, \" + customer + \"!\")\n",
    "    index = index + 1\n",
    "\n",
    "print(index)\n",
    "print(len(customer_list))\n",
    "\n",
    "\n",
    "    "
   ]
  },
  {
   "cell_type": "markdown",
   "metadata": {},
   "source": [
    "<font size = '5'>\n",
    "\n",
    "4. For-Loops + Plotting\n",
    "\n",
    "<font size = \"3\">\n",
    "\n",
    "   - Create an array of x-values with all the integers between 1 and 10\n",
    "   - Create a vector ```vec_y1``` where each element is computed from <br>\n",
    "   the formula $ y_1 = 0.5x^4 + 2x^2 + 4x$.\n",
    "   - Create a vector ```vec_y2``` where each element is computed from <br>\n",
    "   the formula $ y_2 = 2x^3 + 4x + 4$.\n",
    "   - Create an object ```list_vectors``` with elements ```vec_y1``` and ```vec_y2```\n",
    "   - Create a for-loop that goes through each element of <br>\n",
    "   ```list_vectors``` and plots each list of $y$ values against $x$\n",
    "\n",
    "Note: The final output should be a 2 dimensional scatter plot with two sets, <br>\n",
    "of points, with the $y_1$ and $y_2$ on the vertical axis, and the $x$ values <br>\n",
    "on the horizontal axis. Remember to always label the axes to make it look <br>\n",
    "more professional."
   ]
  },
  {
   "cell_type": "code",
   "execution_count": 53,
   "metadata": {},
   "outputs": [
    {
     "data": {
      "image/png": "[encoded data removed]",
      "text/plain": [
       "<Figure size 640x480 with 1 Axes>"
      ]
     },
     "metadata": {},
     "output_type": "display_data"
    }
   ],
   "source": [
    "vec_x = np.array([1,2,3,4,5,6,7,8,9,10])\n",
    "\n",
    "vec_y1 = 0.5* vec_x **4 + 2* vec_x **2 + 4* vec_x \n",
    "\n",
    "vec_y2 = 2 * vec_x **3 + 4 *vec_x + 4\n",
    "\n",
    "list_vectors = (vec_y1, vec_y2)\n",
    "\n",
    "for vec_y in list_vectors:\n",
    "    plt.scatter(x = vec_x, y = vec_y)\n",
    "\n",
    "plt.xlabel(\"VecX\")\n",
    "plt.ylabel(\"VecYs\")\n",
    "plt.title(\"Vector Xs vs Vector Ys\")\n",
    "plt.show()\n",
    "\n",
    "\n",
    "\n"
   ]
  },
  {
   "cell_type": "markdown",
   "metadata": {},
   "source": [
    "<font size = \"5\">\n",
    "\n",
    "5. Loops + Multiple Lists\n",
    "\n",
    "<font size =\"3\">\n",
    "\n",
    "Before starting, read the following information about nested loops:\n",
    "\n",
    "https://www.w3schools.com/python/gloss_python_for_nested.asp\n",
    "\n",
    "<img src=\"figures/grading_scale.png\" alt=\"drawing\" width=\"600\"/>\n",
    "\n",
    "- Convert the following three lists to arrays\n",
    "\n",
    "```list_lower = [93, 87, 83, 80, 75, 70, 65, 60, 55, 0] ``` <br>\n",
    "```list_upper = [100,92, 86, 82, 79, 74, 69, 64, 59, 54] ``` <br>\n",
    "```list_letters = [\"A\",\"A-\",\"B+\",\"B\",\"B-\",\"C+\",\"C\",\"C-\",\"D\",\"F\"] ```\n",
    "\n",
    "- Convert the following list of student grades to an array\n",
    "\n",
    "```list_studentgrades = [80, 70, 96, 65, 92] ```\n",
    "\n",
    "- Create a nested for-loop that outputs\n",
    "\n",
    "\"The student got a numeric grade of .... and their letter grade was ...\"\n",
    "\n",
    "Example of the procedure:\n",
    "1. Start with the first student on the list, who's grade is 80.\n",
    "2. Check whether the student's grade is an A by checking whether 80 is between <br>\n",
    "93 and 100. Then check whether it's a B by checking whether the grade is between <br>\n",
    "87 and 92, and so on. This is the \"inner loop\".\n",
    "3. Within the inner loop, if you find the right grade bracket, print the <br>\n",
    "desired message. Else, do not print anything.\n",
    "4. Do this procedure for all students, i.e. the \"outer loop\".\n",
    "\n",
    "\n",
    "\n"
   ]
  },
  {
   "cell_type": "code",
   "execution_count": 5,
   "metadata": {},
   "outputs": [
    {
     "name": "stdout",
     "output_type": "stream",
     "text": [
      "The student got a numeric grade of 80 and their letter grade was B\n",
      "The student got a numeric grade of 70 and their letter grade was C+\n",
      "The student got a numeric grade of 96 and their letter grade was A\n",
      "The student got a numeric grade of 65 and their letter grade was C\n",
      "The student got a numeric grade of 92 and their letter grade was A-\n",
      "The student got a numeric grade of 80 and their letter grade was B\n",
      "The student got a numeric grade of 70 and their letter grade was C+\n",
      "The student got a numeric grade of 96 and their letter grade was A\n",
      "The student got a numeric grade of 65 and their letter grade was C\n",
      "The student got a numeric grade of 92 and their letter grade was A-\n"
     ]
    }
   ],
   "source": [
    "list_lower = [93, 87, 83, 80, 75, 70, 65, 60, 55, 0]\n",
    "list_upper = [100,92, 86, 82, 79, 74, 69, 64, 59, 54]\n",
    "list_letters = [\"A\",\"A-\",\"B+\",\"B\",\"B-\",\"C+\",\"C\",\"C-\",\"D\",\"F\"]\n",
    "list_studentgrades = [80, 70, 96, 65, 92]\n",
    "\n",
    "#converts list to vec\n",
    "vec_lower = np.array(list_lower)\n",
    "vec_upper = np.array(list_upper)\n",
    "vec_letters = np.array(list_letters)\n",
    "vec_grades = np.array(list_studentgrades)\n",
    "\n",
    "#for overall loop is only for the elements in list_studentgrades\n",
    "for grade in list_studentgrades:\n",
    "    #list created has none for each of the 5 elements\n",
    "    letter_grade = []\n",
    "    #for each i in the created range(len)) so i can take the index of [0,1,2,3,etc]\n",
    "    for i in range(len(list_lower)):\n",
    "        #if grade is between the elements of the lists, list = that list_letter's index \n",
    "        if vec_lower[i] <= grade <= vec_upper[i]:\n",
    "            letter_grade = list_letters[i]\n",
    "            #if true break into overall for loop and print \n",
    "            break\n",
    "    print(\"The student got a numeric grade of \" + str(grade)+ \" and their letter grade was \" + str(letter_grade))\n",
    "\n",
    "\n",
    "#or this including an if / else loop \n",
    "\n",
    "for i in vec_grades:\n",
    "    index = 0\n",
    "    for n in vec_lower:\n",
    "        if i >= n:\n",
    "            letter = vec_letters[index]\n",
    "        else:\n",
    "            index = index + 1\n",
    "    print(\"The student got a numeric grade of \" + str(i)+ \" and their letter grade was \" + str(letter) )"
   ]
  }
 ],
 "metadata": {
  "kernelspec": {
   "display_name": "base",
   "language": "python",
   "name": "python3"
  },
  "language_info": {
   "codemirror_mode": {
    "name": "ipython",
    "version": 3
   },
   "file_extension": ".py",
   "mimetype": "text/x-python",
   "name": "python",
   "nbconvert_exporter": "python",
   "pygments_lexer": "ipython3",
   "version": "3.11.5"
  }
 },
 "nbformat": 4,
 "nbformat_minor": 2
}
